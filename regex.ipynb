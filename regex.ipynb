{
 "cells": [
  {
   "cell_type": "code",
   "execution_count": 1,
   "id": "183b46c7",
   "metadata": {},
   "outputs": [],
   "source": [
    "import re"
   ]
  },
  {
   "cell_type": "markdown",
   "id": "16eb29eb",
   "metadata": {},
   "source": [
    "### 1. Write a function named `is_vowel`. It should accept a string as input and use a regular expression to determine if the passed string is a vowel. While not explicity mentioned in the lesson, you can treat the result of re.search as a boolean value that indicates whether or not the regular expression matches the given string."
   ]
  },
  {
   "cell_type": "code",
   "execution_count": 7,
   "id": "d38f52e0",
   "metadata": {},
   "outputs": [],
   "source": [
    "# Assuming the string is a single character...\n",
    "\n",
    "def is_vowel(string):\n",
    "    # sees if there are any vowels, if not it will return a NULL\n",
    "    response = re.search(r\"[aeiou]\", string, re.IGNORECASE)\n",
    "    \n",
    "    if response == None:\n",
    "        print('This is not a vowel')\n",
    "    else:\n",
    "        print(\"This is a vowel\")\n"
   ]
  },
  {
   "cell_type": "code",
   "execution_count": 8,
   "id": "da081511",
   "metadata": {},
   "outputs": [
    {
     "name": "stdout",
     "output_type": "stream",
     "text": [
      "This is a vowel\n",
      "This is not a vowel\n",
      "This is a vowel\n"
     ]
    }
   ],
   "source": [
    "is_vowel('a')\n",
    "is_vowel('b')\n",
    "is_vowel('I')"
   ]
  },
  {
   "cell_type": "markdown",
   "id": "e10b0636",
   "metadata": {},
   "source": [
    "### 2. Write a function named `is_valid_username` that accepts a string as input. A valid username starts with a lowercase letter, and only consists of lowercase letters, numbers, or the `_` character. It should also be no longer than 32 characters. The function should return either True or False depending on whether the passed string is a valid username."
   ]
  },
  {
   "cell_type": "code",
   "execution_count": 24,
   "id": "f34bc8c6",
   "metadata": {},
   "outputs": [],
   "source": [
    "\n",
    "def is_valid_username(username):\n",
    "    if len(username) >= 32:\n",
    "        print('[ERROR][Invalid Username: Username should be no longer than 32 characters.]')\n",
    "    elif re.search(r\"^[a-z]\\w+\", username) == None:\n",
    "        print('[ERROR][Invalid Username: A valid username starts with a lowercase letter, and only consists of lowercase letters, numbers, or the _ character.]')\n",
    "    else:\n",
    "        print('This is vaild username.')\n",
    "        \n"
   ]
  },
  {
   "cell_type": "code",
   "execution_count": 26,
   "id": "64adf9eb",
   "metadata": {},
   "outputs": [
    {
     "name": "stdout",
     "output_type": "stream",
     "text": [
      "[ERROR][Invalid Username: Username should be no longer than 32 characters.]\n",
      "\n",
      "This is vaild username.\n",
      "\n",
      "[ERROR][Invalid Username: A valid username starts with a lowercase letter, and only consists of lowercase letters, numbers, or the _ character.]\n",
      "\n",
      "This is vaild username.\n",
      "\n",
      "[ERROR][Invalid Username: A valid username starts with a lowercase letter, and only consists of lowercase letters, numbers, or the _ character.]\n"
     ]
    }
   ],
   "source": [
    "is_valid_username('aaaaaaaaaaaaaaaaaaaaaaaaaaaaaaaaa')\n",
    "print('')\n",
    "is_valid_username('codeup')\n",
    "print('')\n",
    "is_valid_username('Codeup')\n",
    "print('')\n",
    "is_valid_username('codeup123')\n",
    "print('')\n",
    "is_valid_username('1codeup')\n"
   ]
  },
  {
   "cell_type": "markdown",
   "id": "e62c560c",
   "metadata": {},
   "source": [
    "### 3. Write a regular expression to capture phone numbers. It should match all of the following:\n",
    ">(210) 867 5309  \n",
    "+1 210.867.5309  \n",
    "867-5309  \n",
    "210-867-5309\n"
   ]
  },
  {
   "cell_type": "code",
   "execution_count": 37,
   "id": "587e9456",
   "metadata": {},
   "outputs": [],
   "source": [
    "def phone_number(number):\n",
    "    \"\"\"The \\d matches any numeric in the string, ignoring all other characters. \n",
    "    The join squishes the list from re into a string, that is then converted \n",
    "    to an integer before being returned\"\"\"\n",
    "    return int(''.join(re.findall(r\"\\d\", number)))"
   ]
  },
  {
   "cell_type": "code",
   "execution_count": 36,
   "id": "7d92f004",
   "metadata": {},
   "outputs": [
    {
     "name": "stdout",
     "output_type": "stream",
     "text": [
      "2108675309\n",
      "12108675309\n",
      "8675309\n",
      "2108675309\n"
     ]
    }
   ],
   "source": [
    "print(phone_number('(210) 867 5309'))\n",
    "print(phone_number('+1 210.867.5309'))\n",
    "print(phone_number('867-5309'))\n",
    "print(phone_number('210-867-5309'))"
   ]
  },
  {
   "cell_type": "markdown",
   "id": "3c344fe6",
   "metadata": {},
   "source": [
    "### 4. Use regular expressions to convert the dates below to the standardized year-month-day format.\n",
    "> 02/04/19  \n",
    "02/05/19  \n",
    "02/06/19  \n",
    "02/07/19  \n",
    "02/08/19  \n",
    "02/09/19  \n",
    "02/10/19\n"
   ]
  },
  {
   "cell_type": "code",
   "execution_count": 43,
   "id": "13ac1df4",
   "metadata": {},
   "outputs": [],
   "source": [
    "\n",
    "def convert_date(date):\n",
    "    # this tells re the format of the date coming in, and how to label the month/day/year\n",
    "    date_format = r'(?P<month>\\d+)/(?P<day>\\d+)/(?P<year>\\d+)'\n",
    "    # this uses the format created to match the labels\n",
    "    match = re.search(date_format, date)\n",
    "    return print(\"{}/{}/{}\".format(match.group('year'), match.group('month'), match.group('day')))\n",
    "\n"
   ]
  },
  {
   "cell_type": "code",
   "execution_count": 48,
   "id": "21523531",
   "metadata": {},
   "outputs": [
    {
     "name": "stdout",
     "output_type": "stream",
     "text": [
      "19/02/04\n",
      "19/02/05\n",
      "19/02/06\n"
     ]
    }
   ],
   "source": [
    "convert_date('02/04/19')\n",
    "convert_date('02/05/19')\n",
    "convert_date('02/06/19')"
   ]
  },
  {
   "cell_type": "markdown",
   "id": "3b89cddf",
   "metadata": {},
   "source": [
    "### 5. Write a regex to extract the various parts of these logfile lines:\n",
    ">GET /api/v1/sales?page=86 [16/Apr/2019:193452+0000] HTTP/1.1 {200} 510348 \"python-requests/2.21.0\" 97.105.19.58  \n",
    "\n",
    ">POST /users_accounts/file-upload [16/Apr/2019:193452+0000] HTTP/1.1 {201} 42 \"User-Agent: Mozilla/5.0 (X11; Fedora; Fedora; Linux x86_64) AppleWebKit/537.36 (KHTML, like Gecko) Chrome/73.0.3683.86 Safari/537.36\" 97.105.19.58  \n",
    "\n",
    ">GET /api/v1/items?page=3 [16/Apr/2019:193453+0000] HTTP/1.1 {429} 3561 \"python-requests/2.21.0\" 97.105.19.58\n"
   ]
  },
  {
   "cell_type": "code",
   "execution_count": 49,
   "id": "1b45770a",
   "metadata": {},
   "outputs": [
    {
     "data": {
      "text/plain": [
       "['GET',\n",
       " '/api/v1/sales?page=86',\n",
       " '[16/Apr/2019:193452+0000]',\n",
       " 'HTTP/1.1',\n",
       " '{200}',\n",
       " '510348',\n",
       " '\"python-requests/2.21.0\"',\n",
       " '97.105.19.58']"
      ]
     },
     "execution_count": 49,
     "metadata": {},
     "output_type": "execute_result"
    }
   ],
   "source": [
    "logfile = 'GET /api/v1/sales?page=86 [16/Apr/2019:193452+0000] HTTP/1.1 {200} 510348 \"python-requests/2.21.0\" 97.105.19.58'\n",
    "\n",
    "# split on white space\n",
    "re.split(r\" \", logfile)\n",
    "\n"
   ]
  },
  {
   "cell_type": "markdown",
   "id": "d098c461",
   "metadata": {},
   "source": [
    "### Bonus Exercise\n",
    "\n",
    "You can find a list of words on your mac at `/usr/share/dict/words`. Use this file to answer the following questions:\n",
    "- How many words have at least 3 vowels?\n",
    "- How many words have at least 3 vowels in a row?\n",
    "- How many words have at least 4 consonants in a row?\n",
    "- How many words start and end with the same letter?\n",
    "- How many words start and end with a vowel?\n",
    "- How many words contain the same letter 3 times in a row?\n",
    "- What other interesting patterns in words can you find?\n"
   ]
  },
  {
   "cell_type": "code",
   "execution_count": 59,
   "id": "9f15f7b4",
   "metadata": {},
   "outputs": [],
   "source": [
    "with open('/usr/share/dict/words') as f:\n",
    "    words = f.read().split()"
   ]
  },
  {
   "cell_type": "code",
   "execution_count": 63,
   "id": "4aa82a49",
   "metadata": {},
   "outputs": [
    {
     "data": {
      "text/plain": [
       "235886"
      ]
     },
     "execution_count": 63,
     "metadata": {},
     "output_type": "execute_result"
    }
   ],
   "source": [
    "len(words)"
   ]
  },
  {
   "cell_type": "markdown",
   "id": "c45f57cd",
   "metadata": {},
   "source": [
    "How many words have at least 3 vowels?"
   ]
  },
  {
   "cell_type": "code",
   "execution_count": 75,
   "id": "0fd1dfba",
   "metadata": {},
   "outputs": [],
   "source": [
    "def three_vowel_word_count(word_list):\n",
    "    # create the list to hold our 3+ vowel words\n",
    "    three_vowel_words = []\n",
    "\n",
    "    for word in word_list:\n",
    "\n",
    "        # finds all the vowels in the word\n",
    "        vowels = re.findall(r\"[aeiou]\", word, re.IGNORECASE)\n",
    "\n",
    "        # if there at least three vowels in this word, add it to the list\n",
    "        if len(vowels) >= 3 :\n",
    "            three_vowel_words.append(word)\n",
    "\n",
    "        else:\n",
    "            continue\n",
    "            \n",
    "    # return the number of words that have 3+ vowels\n",
    "    return len(three_vowel_words)"
   ]
  },
  {
   "cell_type": "code",
   "execution_count": 76,
   "id": "719a53b9",
   "metadata": {},
   "outputs": [
    {
     "data": {
      "text/plain": [
       "191365"
      ]
     },
     "execution_count": 76,
     "metadata": {},
     "output_type": "execute_result"
    }
   ],
   "source": [
    "# Final Answer:\n",
    "three_vowel_word_count(words)"
   ]
  },
  {
   "cell_type": "markdown",
   "id": "31eeee6a",
   "metadata": {},
   "source": [
    "How many words have at least 3 vowels in a row?"
   ]
  },
  {
   "cell_type": "code",
   "execution_count": 84,
   "id": "22689e1d",
   "metadata": {},
   "outputs": [],
   "source": [
    "def three_vowel_inarow_word_count(word_list):\n",
    "    # create the list to hold our words with at least 3 vowels in a row\n",
    "    three_vowel_words = []\n",
    "\n",
    "    for word in word_list:\n",
    "\n",
    "        # finds all the vowels in the word\n",
    "        vowels = re.findall(r\"[aeiou]{3}\", word, re.IGNORECASE)\n",
    "\n",
    "        # if there at least 3 vowels in a row in this word, add it to the list\n",
    "        if len(vowels) >= 1 :\n",
    "            three_vowel_words.append(word)\n",
    "\n",
    "        else:\n",
    "            continue\n",
    "            \n",
    "    # return the number of words that have at least 3 vowels in a row\n",
    "    return len(three_vowel_words)"
   ]
  },
  {
   "cell_type": "code",
   "execution_count": 85,
   "id": "b5777c49",
   "metadata": {},
   "outputs": [
    {
     "data": {
      "text/plain": [
       "6182"
      ]
     },
     "execution_count": 85,
     "metadata": {},
     "output_type": "execute_result"
    }
   ],
   "source": [
    "three_vowel_inarow_word_count(words)"
   ]
  },
  {
   "cell_type": "markdown",
   "id": "af23f577",
   "metadata": {},
   "source": [
    "How many words have at least 4 consonants in a row?"
   ]
  },
  {
   "cell_type": "code",
   "execution_count": null,
   "id": "6b7c9aa6",
   "metadata": {},
   "outputs": [],
   "source": []
  }
 ],
 "metadata": {
  "kernelspec": {
   "display_name": "Python 3 (ipykernel)",
   "language": "python",
   "name": "python3"
  },
  "language_info": {
   "codemirror_mode": {
    "name": "ipython",
    "version": 3
   },
   "file_extension": ".py",
   "mimetype": "text/x-python",
   "name": "python",
   "nbconvert_exporter": "python",
   "pygments_lexer": "ipython3",
   "version": "3.9.7"
  }
 },
 "nbformat": 4,
 "nbformat_minor": 5
}
