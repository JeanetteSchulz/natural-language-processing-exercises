{
 "cells": [
  {
   "cell_type": "code",
   "execution_count": 74,
   "id": "08475944",
   "metadata": {},
   "outputs": [],
   "source": [
    "from requests import get\n",
    "from bs4 import BeautifulSoup\n",
    "import os\n",
    "import pandas as pd\n",
    "from time import strftime"
   ]
  },
  {
   "cell_type": "markdown",
   "id": "7e8bcc49",
   "metadata": {},
   "source": [
    "### 1. Codeup Blog Articles\n",
    "\n",
    "Visit Codeup's Blog and record the urls for at least 5 distinct blog posts. For each post, you should scrape at least the post's title and content.\n",
    "\n",
    "Encapsulate your work in a function named get_blog_articles that will return a list of dictionaries, with each dictionary representing one article. The shape of each dictionary should look like this:\n",
    "\n",
    ">{<br>  \n",
    "    'title': 'the title of the article',  \n",
    "    'content': 'the full text content of the article'<br>  \n",
    "}\n",
    "\n",
    "Plus any additional properties you think might be helpful.\n",
    "\n",
    "<b>Bonus: Scrape the text of all the articles linked on `codeup's blog page`.</b>\n",
    "\n"
   ]
  },
  {
   "cell_type": "code",
   "execution_count": 2,
   "id": "9522b761",
   "metadata": {},
   "outputs": [],
   "source": [
    "# The web page that will be scraped:\n",
    "url = 'https://codeup.com/blog/'"
   ]
  },
  {
   "cell_type": "code",
   "execution_count": 3,
   "id": "e633d1f8",
   "metadata": {},
   "outputs": [],
   "source": [
    "# Some websites don't accept the python-requests default user-agent\n",
    "headers = {'User-Agent': 'Codeup Data Science'} "
   ]
  },
  {
   "cell_type": "code",
   "execution_count": 4,
   "id": "0af10ad8",
   "metadata": {},
   "outputs": [],
   "source": [
    "# Requesting page information with the header so I don't get rejected\n",
    "response = get(url, headers=headers)"
   ]
  },
  {
   "cell_type": "code",
   "execution_count": 5,
   "id": "955b1f3c",
   "metadata": {},
   "outputs": [],
   "source": [
    "# Turning page information into chunks of soup\n",
    "soup = BeautifulSoup(response.text)"
   ]
  },
  {
   "cell_type": "code",
   "execution_count": 6,
   "id": "69fa969a",
   "metadata": {},
   "outputs": [
    {
     "data": {
      "text/plain": [
       "<h2 class=\"entry-title\"><a href=\"https://codeup.com/codeup-news/codeup-start-dates-for-march-2022/\">Codeup Start Dates for March 2022</a></h2>"
      ]
     },
     "execution_count": 6,
     "metadata": {},
     "output_type": "execute_result"
    }
   ],
   "source": [
    "# The blog links I'm after are under a class called \"entry-title\", \n",
    "# so I'll look for those specifically\n",
    "soup.select('.entry-title')[0]"
   ]
  },
  {
   "cell_type": "code",
   "execution_count": 7,
   "id": "695f5c66",
   "metadata": {},
   "outputs": [
    {
     "data": {
      "text/plain": [
       "'https://codeup.com/codeup-news/codeup-start-dates-for-march-2022/'"
      ]
     },
     "execution_count": 7,
     "metadata": {},
     "output_type": "execute_result"
    }
   ],
   "source": [
    "# This is how I will pull out just the url \n",
    "soup.select('.entry-title')[0].a['href']"
   ]
  },
  {
   "cell_type": "code",
   "execution_count": 8,
   "id": "e93486c2",
   "metadata": {},
   "outputs": [
    {
     "data": {
      "text/plain": [
       "['https://codeup.com/codeup-news/codeup-start-dates-for-march-2022/',\n",
       " 'https://codeup.com/codeup-news/vet-tec-funding-dallas/',\n",
       " 'https://codeup.com/codeup-news/dallas-campus-re-opens-with-new-grant-partner/',\n",
       " 'https://codeup.com/dallas-newsletter/codeup-dallas-open-house/',\n",
       " 'https://codeup.com/codeup-news/codeups-placement-team-continues-setting-records/',\n",
       " 'https://codeup.com/it-training/it-certifications-101/',\n",
       " 'https://codeup.com/cybersecurity/a-rise-in-cyber-attacks-means-opportunities-for-veterans-in-san-antonio/',\n",
       " 'https://codeup.com/codeup-news/use-your-gi-bill-benefits-to-land-a-job-in-tech/',\n",
       " 'https://codeup.com/tips-for-prospective-students/which-program-is-right-for-me-cyber-security-or-systems-engineering/',\n",
       " 'https://codeup.com/it-training/what-the-heck-is-system-engineering/',\n",
       " 'https://codeup.com/alumni-stories/from-speech-pathology-to-business-intelligence/',\n",
       " 'https://codeup.com/behind-the-billboards/boris-behind-the-billboards/',\n",
       " 'https://codeup.com/codeup-news/is-codeup-the-best-bootcamp-in-san-antonio-or-the-world/',\n",
       " 'https://codeup.com/codeup-news/codeup-launches-first-podcast-hire-tech/',\n",
       " 'https://codeup.com/tips-for-prospective-students/why-should-i-become-a-system-administrator/',\n",
       " 'https://codeup.com/codeup-news/codeup-candidate-for-accreditation/',\n",
       " 'https://codeup.com/codeup-news/codeup-takes-over-more-of-the-historic-vogue-building/',\n",
       " 'https://codeup.com/codeup-news/inclusion-at-codeup-during-pride-month-and-always/']"
      ]
     },
     "execution_count": 8,
     "metadata": {},
     "output_type": "execute_result"
    }
   ],
   "source": [
    "# Since I can't separate the href enmasse I will needed to do it individually\n",
    "titles = soup.select('.entry-title')\n",
    "\n",
    "links= []\n",
    "for title in titles:\n",
    "    links.append(title.a[\"href\"])\n",
    "\n",
    "links"
   ]
  },
  {
   "cell_type": "code",
   "execution_count": 56,
   "id": "d15054b5",
   "metadata": {},
   "outputs": [],
   "source": [
    "# Now that I have all the links from the main page, I want to get the article content\n",
    "# I'll start by making a soup of a single article page to see what I need from it\n",
    "response2 = get(links[0], headers= {'User-Agent': 'Codeup Data Science'})\n",
    "soup2 = BeautifulSoup(response2.text)"
   ]
  },
  {
   "cell_type": "code",
   "execution_count": 57,
   "id": "c44fafce",
   "metadata": {},
   "outputs": [
    {
     "data": {
      "text/plain": [
       "'Codeup Start Dates for March 2022'"
      ]
     },
     "execution_count": 57,
     "metadata": {},
     "output_type": "execute_result"
    }
   ],
   "source": [
    "# The title of the Article\n",
    "soup2.select_one('.entry-title').text"
   ]
  },
  {
   "cell_type": "code",
   "execution_count": 58,
   "id": "5564cb73",
   "metadata": {},
   "outputs": [
    {
     "data": {
      "text/plain": [
       "'Jan 26, 2022'"
      ]
     },
     "execution_count": 58,
     "metadata": {},
     "output_type": "execute_result"
    }
   ],
   "source": [
    "# The date the article was published\n",
    "soup2.select_one('.published').text"
   ]
  },
  {
   "cell_type": "code",
   "execution_count": 59,
   "id": "f5fcffd1",
   "metadata": {},
   "outputs": [
    {
     "data": {
      "text/plain": [
       "'As we approach the end of January we wanted to look forward to our next start dates for all of our current programs.\\nFull Stack Web Development – 3/7/22\\nFull Stack Web Development is the first program we built and also our most popular. You’ve asked and we listened! Our next Web Development cohort will start on 3/7/2022 and is ENTIRELY VIRTUAL! THESE SEATS WILL GO FAST!\\nAs one of the most in-demand jobs in the country, software and web development is the tech career with the newest jobs. In the U.S., there’s:\\n\\n1.5 million developer jobs*\\n250,000 of them remain open\\na high growth rate of 13%*\\n\\n\\xa0\\nData Science – 3/22/22\\nOur first new Data Science class of 2022 starts Monday 3/22/2022 at our downtown campus at the Vogue building.\\nWhy consider pivoting careers to Data Science?\\n\\n#1 job in America from 2016-2020 (Glassdoor*)\\n650% increase in data science positions since 2012\\nNearly 12 million new jobs between 2019 and 2029\\n31% ten-year growth rate\\n\\nThe supply of data scientists remains painfully low compared to the outrageous demand. YOU can help close the gap while launching a fulfilling, secure, and high-paying career – one of the very best in the country!\\nEmployers are scrambling to find talent due to a lack of qualified applicants. YOU can help fill the gap while future-proofing your skillset. Have the flexibility, security, and salary that you’ve always wanted in a career.\\nAre you ready to launch your career in tech? Apply today so our admissions team can save your seat and get your name on the list. Our application can be found here.\\xa0\\nWant to experience Codeup early? Join one of our workshops to get an intro to a specific coding language, learn about our financing options, or maybe even code yourself a resume! All of our events can be located here.\\xa0\\nWe can’t wait to help you launch your career in tech!'"
      ]
     },
     "execution_count": 59,
     "metadata": {},
     "output_type": "execute_result"
    }
   ],
   "source": [
    "# The actual written blog of the article \n",
    "soup2.select_one(\".entry-content\").text.strip()"
   ]
  },
  {
   "cell_type": "code",
   "execution_count": 69,
   "id": "73a3af04",
   "metadata": {},
   "outputs": [],
   "source": [
    "# Now to make it into a repeatable function! :)\n",
    "\n",
    "def front_page_links():\n",
    "    \"\"\"\n",
    "    Short function to hit the codeup blog landing page and return a list of all the urls to further blog posts on the\n",
    "    page.\n",
    "    \"\"\"\n",
    "    response = get(\"https://codeup.com/blog/\", headers={\"user-agent\": \"Codeup Data Science\"})\n",
    "    soup = BeautifulSoup(response.text)\n",
    "    links = [link.attrs[\"href\"] for link in soup.select(\".more-link\")]\n",
    "\n",
    "    return links\n",
    "\n",
    "def blog_article(url):\n",
    "    \"Given a blog article url, extract the relevant information and return it as a dictionary.\"\n",
    "    response = get(url, headers={\"user-agent\": \"Codeup DS\"})\n",
    "    soup = BeautifulSoup(response.text)\n",
    "    return {\n",
    "        # The title of the Article\n",
    "        \"title\": soup.select_one(\".entry-title\").text,\n",
    "        # The date the article was published\n",
    "        \"published\": soup.select_one(\".published\").text,\n",
    "        # The actual written blog of the article \n",
    "        \"content\": soup.select_one(\".entry-content\").text.strip(),\n",
    "    }\n",
    "\n",
    "def fp_blogs():\n",
    "    \"Returns a dataframe where each row is a blog post from the front page of the codeup blogs.\"\n",
    "    links = front_page_links()\n",
    "    df = pd.DataFrame([blog_article(link) for link in links])\n",
    "    return df"
   ]
  },
  {
   "cell_type": "code",
   "execution_count": 72,
   "id": "0b5a0346",
   "metadata": {},
   "outputs": [
    {
     "data": {
      "text/html": [
       "<div>\n",
       "<style scoped>\n",
       "    .dataframe tbody tr th:only-of-type {\n",
       "        vertical-align: middle;\n",
       "    }\n",
       "\n",
       "    .dataframe tbody tr th {\n",
       "        vertical-align: top;\n",
       "    }\n",
       "\n",
       "    .dataframe thead th {\n",
       "        text-align: right;\n",
       "    }\n",
       "</style>\n",
       "<table border=\"1\" class=\"dataframe\">\n",
       "  <thead>\n",
       "    <tr style=\"text-align: right;\">\n",
       "      <th></th>\n",
       "      <th>title</th>\n",
       "      <th>published</th>\n",
       "      <th>content</th>\n",
       "    </tr>\n",
       "  </thead>\n",
       "  <tbody>\n",
       "    <tr>\n",
       "      <th>0</th>\n",
       "      <td>Codeup Dallas Open House</td>\n",
       "      <td>Nov 30, 2021</td>\n",
       "      <td>Come join us for the re-opening of our Dallas ...</td>\n",
       "    </tr>\n",
       "    <tr>\n",
       "      <th>1</th>\n",
       "      <td>Codeup’s Placement Team Continues Setting Records</td>\n",
       "      <td>Nov 19, 2021</td>\n",
       "      <td>Our Placement Team is simply defined as a grou...</td>\n",
       "    </tr>\n",
       "    <tr>\n",
       "      <th>2</th>\n",
       "      <td>IT Certifications 101: Why They Matter, and Wh...</td>\n",
       "      <td>Nov 18, 2021</td>\n",
       "      <td>AWS, Google, Azure, Red Hat, CompTIA…these are...</td>\n",
       "    </tr>\n",
       "    <tr>\n",
       "      <th>3</th>\n",
       "      <td>A rise in cyber attacks means opportunities fo...</td>\n",
       "      <td>Nov 17, 2021</td>\n",
       "      <td>In the last few months, the US has experienced...</td>\n",
       "    </tr>\n",
       "    <tr>\n",
       "      <th>4</th>\n",
       "      <td>Use your GI Bill® benefits to Land a Job in Tech</td>\n",
       "      <td>Nov 4, 2021</td>\n",
       "      <td>As the end of military service gets closer, ma...</td>\n",
       "    </tr>\n",
       "    <tr>\n",
       "      <th>5</th>\n",
       "      <td>Which program is right for me: Cyber Security ...</td>\n",
       "      <td>Oct 28, 2021</td>\n",
       "      <td>What IT Career should I choose?\\nIf you’re thi...</td>\n",
       "    </tr>\n",
       "    <tr>\n",
       "      <th>6</th>\n",
       "      <td>What the Heck is System Engineering?</td>\n",
       "      <td>Oct 21, 2021</td>\n",
       "      <td>Codeup offers a 13-week training program: Syst...</td>\n",
       "    </tr>\n",
       "    <tr>\n",
       "      <th>7</th>\n",
       "      <td>From Speech Pathology to Business Intelligence</td>\n",
       "      <td>Oct 18, 2021</td>\n",
       "      <td>By: Alicia Gonzalez\\nBefore Codeup, I was a ho...</td>\n",
       "    </tr>\n",
       "    <tr>\n",
       "      <th>8</th>\n",
       "      <td>Boris – Behind the Billboards</td>\n",
       "      <td>Oct 3, 2021</td>\n",
       "      <td></td>\n",
       "    </tr>\n",
       "    <tr>\n",
       "      <th>9</th>\n",
       "      <td>Is Codeup the Best Bootcamp in San Antonio…or ...</td>\n",
       "      <td>Sep 16, 2021</td>\n",
       "      <td>Looking for the best data science bootcamp in ...</td>\n",
       "    </tr>\n",
       "    <tr>\n",
       "      <th>10</th>\n",
       "      <td>Codeup Launches First Podcast: Hire Tech</td>\n",
       "      <td>Aug 25, 2021</td>\n",
       "      <td>Any podcast enthusiasts out there? We are plea...</td>\n",
       "    </tr>\n",
       "    <tr>\n",
       "      <th>11</th>\n",
       "      <td>Why Should I Become a System Administrator?</td>\n",
       "      <td>Aug 23, 2021</td>\n",
       "      <td>With so many tech careers in demand, why choos...</td>\n",
       "    </tr>\n",
       "    <tr>\n",
       "      <th>12</th>\n",
       "      <td>Announcing our Candidacy for Accreditation!</td>\n",
       "      <td>Jun 30, 2021</td>\n",
       "      <td>Did you know that even though we’re an indepen...</td>\n",
       "    </tr>\n",
       "    <tr>\n",
       "      <th>13</th>\n",
       "      <td>Codeup Takes Over More of the Historic Vogue B...</td>\n",
       "      <td>Jun 21, 2021</td>\n",
       "      <td>Codeup is moving into another floor of our His...</td>\n",
       "    </tr>\n",
       "    <tr>\n",
       "      <th>14</th>\n",
       "      <td>Inclusion at Codeup During Pride Month (and Al...</td>\n",
       "      <td>Jun 4, 2021</td>\n",
       "      <td>Happy Pride Month! Pride Month is a dedicated ...</td>\n",
       "    </tr>\n",
       "  </tbody>\n",
       "</table>\n",
       "</div>"
      ],
      "text/plain": [
       "                                                title     published  \\\n",
       "0                            Codeup Dallas Open House  Nov 30, 2021   \n",
       "1   Codeup’s Placement Team Continues Setting Records  Nov 19, 2021   \n",
       "2   IT Certifications 101: Why They Matter, and Wh...  Nov 18, 2021   \n",
       "3   A rise in cyber attacks means opportunities fo...  Nov 17, 2021   \n",
       "4    Use your GI Bill® benefits to Land a Job in Tech   Nov 4, 2021   \n",
       "5   Which program is right for me: Cyber Security ...  Oct 28, 2021   \n",
       "6                What the Heck is System Engineering?  Oct 21, 2021   \n",
       "7      From Speech Pathology to Business Intelligence  Oct 18, 2021   \n",
       "8                       Boris – Behind the Billboards   Oct 3, 2021   \n",
       "9   Is Codeup the Best Bootcamp in San Antonio…or ...  Sep 16, 2021   \n",
       "10           Codeup Launches First Podcast: Hire Tech  Aug 25, 2021   \n",
       "11        Why Should I Become a System Administrator?  Aug 23, 2021   \n",
       "12        Announcing our Candidacy for Accreditation!  Jun 30, 2021   \n",
       "13  Codeup Takes Over More of the Historic Vogue B...  Jun 21, 2021   \n",
       "14  Inclusion at Codeup During Pride Month (and Al...   Jun 4, 2021   \n",
       "\n",
       "                                              content  \n",
       "0   Come join us for the re-opening of our Dallas ...  \n",
       "1   Our Placement Team is simply defined as a grou...  \n",
       "2   AWS, Google, Azure, Red Hat, CompTIA…these are...  \n",
       "3   In the last few months, the US has experienced...  \n",
       "4   As the end of military service gets closer, ma...  \n",
       "5   What IT Career should I choose?\\nIf you’re thi...  \n",
       "6   Codeup offers a 13-week training program: Syst...  \n",
       "7   By: Alicia Gonzalez\\nBefore Codeup, I was a ho...  \n",
       "8                                                      \n",
       "9   Looking for the best data science bootcamp in ...  \n",
       "10  Any podcast enthusiasts out there? We are plea...  \n",
       "11  With so many tech careers in demand, why choos...  \n",
       "12  Did you know that even though we’re an indepen...  \n",
       "13  Codeup is moving into another floor of our His...  \n",
       "14  Happy Pride Month! Pride Month is a dedicated ...  "
      ]
     },
     "execution_count": 72,
     "metadata": {},
     "output_type": "execute_result"
    }
   ],
   "source": [
    "df = fp_blogs()\n",
    "df"
   ]
  },
  {
   "cell_type": "code",
   "execution_count": 76,
   "id": "114865b5",
   "metadata": {},
   "outputs": [],
   "source": [
    "# Save the blogs as json:\n",
    "\n",
    "today = strftime('%Y-%m-%d')\n",
    "fp_blogs().to_json(f'codeup_blog_{today}.json')"
   ]
  },
  {
   "cell_type": "markdown",
   "id": "2555b0a8",
   "metadata": {},
   "source": [
    "# InShorts"
   ]
  },
  {
   "cell_type": "markdown",
   "id": "2f66fcb1",
   "metadata": {},
   "source": [
    "### 2. News Articles\n",
    "  \n",
    "We will now be scraping text data from inshorts, a website that provides a brief overview of many different topics.\n",
    "  \n",
    "Write a function that scrapes the news articles for the following topics:\n",
    "  \n",
    "Business\n",
    "Sports\n",
    "Technology\n",
    "Entertainment\n",
    "The end product of this should be a function named get_news_articles that returns a list of dictionaries, where each dictionary has this shape:\n",
    "\n",
    ">{<br>  \n",
    "    'title': 'The article title',  \n",
    "    'content': 'The article content',  \n",
    "    'category': 'business' # for example<br>  \n",
    "}\n",
    "\n",
    "Hints:\n",
    "\n",
    "- Start by inspecting the website in your browser. Figure out which elements will be useful.  \n",
    "- Start by creating a function that handles a single article and produces a dictionary like the one above.  \n",
    "- Next create a function that will find all the articles on a single page and call the function you created in the last step for every article on the page.  \n",
    "- Now create a function that will use the previous two functions to scrape the articles from all the pages that you need, and do any additional processing that needs to be done."
   ]
  },
  {
   "cell_type": "code",
   "execution_count": 78,
   "id": "9b2f0f68",
   "metadata": {},
   "outputs": [],
   "source": [
    "# Time for more soup!\n",
    "url = 'https://www.inshorts.com/en/read/business'\n",
    "response = get(url, headers={'user-agent': 'Codeup DS'})\n",
    "soup = BeautifulSoup(response.text)"
   ]
  },
  {
   "cell_type": "code",
   "execution_count": 80,
   "id": "b0547ef1",
   "metadata": {
    "scrolled": true
   },
   "outputs": [
    {
     "data": {
      "text/plain": [
       "25"
      ]
     },
     "execution_count": 80,
     "metadata": {},
     "output_type": "execute_result"
    }
   ],
   "source": [
    "# Identify the class I want to select for each news article\n",
    "cards = soup.select('.news-card')\n",
    "len(cards)"
   ]
  },
  {
   "cell_type": "code",
   "execution_count": 82,
   "id": "97b075ee",
   "metadata": {},
   "outputs": [
    {
     "data": {
      "text/plain": [
       "'RBI cancels licence of Maha-based Independence Co-operative Bank'"
      ]
     },
     "execution_count": 82,
     "metadata": {},
     "output_type": "execute_result"
    }
   ],
   "source": [
    "# Article headline\n",
    "headline = cards[0].find('span', itemprop = 'headline').text\n",
    "headline"
   ]
  },
  {
   "cell_type": "code",
   "execution_count": 83,
   "id": "2b9c0663",
   "metadata": {},
   "outputs": [
    {
     "data": {
      "text/plain": [
       "'Shalini Ojha'"
      ]
     },
     "execution_count": 83,
     "metadata": {},
     "output_type": "execute_result"
    }
   ],
   "source": [
    "# Author of the Article\n",
    "cards[0].find('span', class_ = 'author').text"
   ]
  },
  {
   "cell_type": "code",
   "execution_count": 84,
   "id": "ac7d4872",
   "metadata": {},
   "outputs": [
    {
     "data": {
      "text/plain": [
       "\"RBI has cancelled licence of Maharashtra-based Independence Co-operative Bank, citing inadequate capital. It will cease to carry on banking operations from the close of business on February 3. In the present situation, the bank won't be able to pay its depositors in full, RBI said. It added that the bank didn't comply with multiple sections of Banking Regulation Act, 1949. \""
      ]
     },
     "execution_count": 84,
     "metadata": {},
     "output_type": "execute_result"
    }
   ],
   "source": [
    "# Content of the Article\n",
    "cards[0].find('div', itemprop = 'articleBody').text"
   ]
  },
  {
   "cell_type": "code",
   "execution_count": 86,
   "id": "f32b47b7",
   "metadata": {},
   "outputs": [
    {
     "data": {
      "text/plain": [
       "'03 Feb 2022,Thursday'"
      ]
     },
     "execution_count": 86,
     "metadata": {},
     "output_type": "execute_result"
    }
   ],
   "source": [
    "# Date Article was published\n",
    "# Since these were all published today, all the dates will be the same\n",
    "cards[0].find('span', clas ='date').text"
   ]
  },
  {
   "cell_type": "code",
   "execution_count": 89,
   "id": "f4e2ef36",
   "metadata": {},
   "outputs": [],
   "source": [
    "def parse_news_card(card):\n",
    "    'Given a news card object, returns a dictionary of the relevant information.'\n",
    "    card_title = card.select_one('.news-card-title')\n",
    "    output = {}\n",
    "    output['title'] = card.find('span', itemprop = 'headline').text\n",
    "    output['author'] = card.find('span', class_ = 'author').text\n",
    "    output['content'] = card.find('div', itemprop = 'articleBody').text\n",
    "    output['date'] = card.find('span', clas ='date').text\n",
    "    return output\n",
    "\n",
    "\n",
    "def parse_inshorts_page(url):\n",
    "    '''Given a url, returns a dataframe where each row is a news article from the url.\n",
    "    Infers the category from the last section of the url.'''\n",
    "    category = url.split('/')[-1]\n",
    "    response = get(url, headers={'user-agent': 'Codeup DS'})\n",
    "    soup = BeautifulSoup(response.text)\n",
    "    cards = soup.select('.news-card')\n",
    "    df = pd.DataFrame([parse_news_card(card) for card in cards])\n",
    "    df['category'] = category\n",
    "    return df\n",
    "\n",
    "def get_inshorts_articles():\n",
    "    '''\n",
    "    Returns a dataframe of news articles from the business, sports, technology, and entertainment sections of\n",
    "    inshorts.\n",
    "    '''\n",
    "    url = 'https://inshorts.com/en/read/'\n",
    "    categories = ['business', 'sports', 'technology', 'entertainment']\n",
    "    df = pd.DataFrame()\n",
    "    for cat in categories:\n",
    "        df = pd.concat([df, pd.DataFrame(parse_inshorts_page(url + cat))])\n",
    "    df = df.reset_index(drop=True)\n",
    "    return df"
   ]
  },
  {
   "cell_type": "code",
   "execution_count": 90,
   "id": "b94f6d7b",
   "metadata": {},
   "outputs": [
    {
     "data": {
      "text/html": [
       "<div>\n",
       "<style scoped>\n",
       "    .dataframe tbody tr th:only-of-type {\n",
       "        vertical-align: middle;\n",
       "    }\n",
       "\n",
       "    .dataframe tbody tr th {\n",
       "        vertical-align: top;\n",
       "    }\n",
       "\n",
       "    .dataframe thead th {\n",
       "        text-align: right;\n",
       "    }\n",
       "</style>\n",
       "<table border=\"1\" class=\"dataframe\">\n",
       "  <thead>\n",
       "    <tr style=\"text-align: right;\">\n",
       "      <th></th>\n",
       "      <th>title</th>\n",
       "      <th>author</th>\n",
       "      <th>content</th>\n",
       "      <th>date</th>\n",
       "      <th>category</th>\n",
       "    </tr>\n",
       "  </thead>\n",
       "  <tbody>\n",
       "    <tr>\n",
       "      <th>0</th>\n",
       "      <td>RBI cancels licence of Maha-based Independence...</td>\n",
       "      <td>Shalini Ojha</td>\n",
       "      <td>RBI has cancelled licence of Maharashtra-based...</td>\n",
       "      <td>03 Feb 2022,Thursday</td>\n",
       "      <td>business</td>\n",
       "    </tr>\n",
       "    <tr>\n",
       "      <th>1</th>\n",
       "      <td>Boost to EVs a big step: Windmill Capital</td>\n",
       "      <td>Roshan Gupta</td>\n",
       "      <td>Increased use of EVs in public transport, spec...</td>\n",
       "      <td>03 Feb 2022,Thursday</td>\n",
       "      <td>business</td>\n",
       "    </tr>\n",
       "    <tr>\n",
       "      <th>2</th>\n",
       "      <td>Facebook parent Meta's $230-billion wipeout bi...</td>\n",
       "      <td>Pragya Swastik</td>\n",
       "      <td>Facebook's parent Meta's shares plunged 27% an...</td>\n",
       "      <td>03 Feb 2022,Thursday</td>\n",
       "      <td>business</td>\n",
       "    </tr>\n",
       "    <tr>\n",
       "      <th>3</th>\n",
       "      <td>Melinda not to give majority of wealth to Gate...</td>\n",
       "      <td>Aishwarya Awasthi</td>\n",
       "      <td>Melinda French Gates, Co-founder of the Bill a...</td>\n",
       "      <td>03 Feb 2022,Thursday</td>\n",
       "      <td>business</td>\n",
       "    </tr>\n",
       "    <tr>\n",
       "      <th>4</th>\n",
       "      <td>Facebook's daily active users fall for first t...</td>\n",
       "      <td>Pragya Swastik</td>\n",
       "      <td>Facebook has seen its daily active users (DAUs...</td>\n",
       "      <td>03 Feb 2022,Thursday</td>\n",
       "      <td>business</td>\n",
       "    </tr>\n",
       "    <tr>\n",
       "      <th>...</th>\n",
       "      <td>...</td>\n",
       "      <td>...</td>\n",
       "      <td>...</td>\n",
       "      <td>...</td>\n",
       "      <td>...</td>\n",
       "    </tr>\n",
       "    <tr>\n",
       "      <th>95</th>\n",
       "      <td>Told Deepika won't click pic with you, I'll do...</td>\n",
       "      <td>Kriti Kambiri</td>\n",
       "      <td>Actor Dhairya Karwa revealed that he went to D...</td>\n",
       "      <td>03 Feb 2022,Thursday</td>\n",
       "      <td>entertainment</td>\n",
       "    </tr>\n",
       "    <tr>\n",
       "      <th>96</th>\n",
       "      <td>Miss cleaning utensils, floor in Bigg Boss hou...</td>\n",
       "      <td>Ria Kapoor</td>\n",
       "      <td>Bigg Boss 15 runner-up Pratik Sehajpal says he...</td>\n",
       "      <td>03 Feb 2022,Thursday</td>\n",
       "      <td>entertainment</td>\n",
       "    </tr>\n",
       "    <tr>\n",
       "      <th>97</th>\n",
       "      <td>Priyanka to star opposite Anthony Mackie in ac...</td>\n",
       "      <td>Kriti Kambiri</td>\n",
       "      <td>Actress Priyanka Chopra will be starring oppos...</td>\n",
       "      <td>03 Feb 2022,Thursday</td>\n",
       "      <td>entertainment</td>\n",
       "    </tr>\n",
       "    <tr>\n",
       "      <th>98</th>\n",
       "      <td>I don't work thinking I'm so many films old: D...</td>\n",
       "      <td>Kriti Kambiri</td>\n",
       "      <td>Actress Deepika Padukone, who made her Bollywo...</td>\n",
       "      <td>03 Feb 2022,Thursday</td>\n",
       "      <td>entertainment</td>\n",
       "    </tr>\n",
       "    <tr>\n",
       "      <th>99</th>\n",
       "      <td>I don't care about all that: Jim Sarbh on soci...</td>\n",
       "      <td>Kriti Kambiri</td>\n",
       "      <td>Actor Jim Sarbh, on being asked about craving ...</td>\n",
       "      <td>03 Feb 2022,Thursday</td>\n",
       "      <td>entertainment</td>\n",
       "    </tr>\n",
       "  </tbody>\n",
       "</table>\n",
       "<p>100 rows × 5 columns</p>\n",
       "</div>"
      ],
      "text/plain": [
       "                                                title             author  \\\n",
       "0   RBI cancels licence of Maha-based Independence...       Shalini Ojha   \n",
       "1           Boost to EVs a big step: Windmill Capital       Roshan Gupta   \n",
       "2   Facebook parent Meta's $230-billion wipeout bi...     Pragya Swastik   \n",
       "3   Melinda not to give majority of wealth to Gate...  Aishwarya Awasthi   \n",
       "4   Facebook's daily active users fall for first t...     Pragya Swastik   \n",
       "..                                                ...                ...   \n",
       "95  Told Deepika won't click pic with you, I'll do...      Kriti Kambiri   \n",
       "96  Miss cleaning utensils, floor in Bigg Boss hou...         Ria Kapoor   \n",
       "97  Priyanka to star opposite Anthony Mackie in ac...      Kriti Kambiri   \n",
       "98  I don't work thinking I'm so many films old: D...      Kriti Kambiri   \n",
       "99  I don't care about all that: Jim Sarbh on soci...      Kriti Kambiri   \n",
       "\n",
       "                                              content                  date  \\\n",
       "0   RBI has cancelled licence of Maharashtra-based...  03 Feb 2022,Thursday   \n",
       "1   Increased use of EVs in public transport, spec...  03 Feb 2022,Thursday   \n",
       "2   Facebook's parent Meta's shares plunged 27% an...  03 Feb 2022,Thursday   \n",
       "3   Melinda French Gates, Co-founder of the Bill a...  03 Feb 2022,Thursday   \n",
       "4   Facebook has seen its daily active users (DAUs...  03 Feb 2022,Thursday   \n",
       "..                                                ...                   ...   \n",
       "95  Actor Dhairya Karwa revealed that he went to D...  03 Feb 2022,Thursday   \n",
       "96  Bigg Boss 15 runner-up Pratik Sehajpal says he...  03 Feb 2022,Thursday   \n",
       "97  Actress Priyanka Chopra will be starring oppos...  03 Feb 2022,Thursday   \n",
       "98  Actress Deepika Padukone, who made her Bollywo...  03 Feb 2022,Thursday   \n",
       "99  Actor Jim Sarbh, on being asked about craving ...  03 Feb 2022,Thursday   \n",
       "\n",
       "         category  \n",
       "0        business  \n",
       "1        business  \n",
       "2        business  \n",
       "3        business  \n",
       "4        business  \n",
       "..            ...  \n",
       "95  entertainment  \n",
       "96  entertainment  \n",
       "97  entertainment  \n",
       "98  entertainment  \n",
       "99  entertainment  \n",
       "\n",
       "[100 rows x 5 columns]"
      ]
     },
     "execution_count": 90,
     "metadata": {},
     "output_type": "execute_result"
    }
   ],
   "source": [
    "df = get_inshorts_articles()\n",
    "df"
   ]
  },
  {
   "cell_type": "code",
   "execution_count": 91,
   "id": "b8aad695",
   "metadata": {},
   "outputs": [],
   "source": [
    "# saving the dataframe as json:\n",
    "today = strftime('%Y-%m-%d')\n",
    "get_inshorts_articles().to_json(f'inshorts-{today}.json')"
   ]
  },
  {
   "cell_type": "code",
   "execution_count": null,
   "id": "74b62ca9",
   "metadata": {},
   "outputs": [],
   "source": []
  }
 ],
 "metadata": {
  "kernelspec": {
   "display_name": "Python 3 (ipykernel)",
   "language": "python",
   "name": "python3"
  },
  "language_info": {
   "codemirror_mode": {
    "name": "ipython",
    "version": 3
   },
   "file_extension": ".py",
   "mimetype": "text/x-python",
   "name": "python",
   "nbconvert_exporter": "python",
   "pygments_lexer": "ipython3",
   "version": "3.9.7"
  }
 },
 "nbformat": 4,
 "nbformat_minor": 5
}
